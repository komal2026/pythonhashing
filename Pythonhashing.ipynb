{
  "nbformat": 4,
  "nbformat_minor": 0,
  "metadata": {
    "colab": {
      "name": "Pythonhashing.ipynb",
      "provenance": [],
      "authorship_tag": "ABX9TyPjc0rrdPNgr/fsDj2RxAwh",
      "include_colab_link": true
    },
    "kernelspec": {
      "name": "python3",
      "display_name": "Python 3"
    },
    "language_info": {
      "name": "python"
    }
  },
  "cells": [
    {
      "cell_type": "markdown",
      "metadata": {
        "id": "view-in-github",
        "colab_type": "text"
      },
      "source": [
        "<a href=\"https://colab.research.google.com/github/komal2026/pythonhashing/blob/main/Pythonhashing.ipynb\" target=\"_parent\"><img src=\"https://colab.research.google.com/assets/colab-badge.svg\" alt=\"Open In Colab\"/></a>"
      ]
    },
    {
      "cell_type": "code",
      "metadata": {
        "colab": {
          "base_uri": "https://localhost:8080/"
        },
        "id": "exjtHhrcByiM",
        "outputId": "5e509d73-d5a4-4fdf-f0b5-c10ac29246be"
      },
      "source": [
        " \n",
        "import hashlib\n",
        "given_str = b\"Hello world\"\n",
        "given_str_2 = b\"Hello world !!\"\n",
        " \n",
        "md5_value = hashlib.md5(given_str)\n",
        "md5_value_2 = hashlib.md5(given_str_2)\n",
        " \n",
        " \n",
        "print(md5_value.hexdigest())\n",
        "print(md5_value_2.hexdigest())"
      ],
      "execution_count": null,
      "outputs": [
        {
          "output_type": "stream",
          "text": [
            "3e25960a79dbc69b674cd4ec67a72c62\n",
            "10f73d16d32cf89e1f7cab7589be965b\n"
          ],
          "name": "stdout"
        }
      ]
    },
    {
      "cell_type": "code",
      "metadata": {
        "id": "1Fgnc8nPCDn8"
      },
      "source": [
        ""
      ],
      "execution_count": null,
      "outputs": []
    }
  ]
}